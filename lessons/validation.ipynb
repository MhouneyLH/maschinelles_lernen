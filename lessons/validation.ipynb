{
  "cells": [
    {
      "cell_type": "code",
      "execution_count": 1,
      "metadata": {
        "trusted": true
      },
      "outputs": [],
      "source": [
        "import numpy as np\n",
        "import pandas as pd\n",
        "import matplotlib\n",
        "import matplotlib.pyplot as plt"
      ]
    },
    {
      "cell_type": "code",
      "execution_count": 2,
      "metadata": {
        "trusted": true
      },
      "outputs": [],
      "source": [
        "from sklearn import datasets\n",
        "iris = datasets.load_iris()\n",
        "iris_x = iris.data[:, :2]\n",
        "iris_x = iris_x[:100]\n",
        "iris_y = iris.target[:]\n",
        "iris_y = iris_y[:100]"
      ]
    },
    {
      "cell_type": "code",
      "execution_count": 3,
      "metadata": {
        "trusted": true
      },
      "outputs": [
        {
          "name": "stdout",
          "output_type": "stream",
          "text": [
            "[[4.4 3.2]\n",
            " [6.6 2.9]\n",
            " [6.3 2.5]\n",
            " [4.8 3. ]\n",
            " [6.1 2.8]\n",
            " [5.5 2.5]\n",
            " [5.1 3.3]\n",
            " [4.9 3.6]\n",
            " [6.9 3.1]\n",
            " [4.3 3. ]\n",
            " [4.6 3.1]\n",
            " [4.6 3.6]\n",
            " [5.1 3.8]\n",
            " [5.1 3.5]\n",
            " [5.4 3.7]\n",
            " [4.8 3.1]\n",
            " [5.8 2.6]\n",
            " [4.9 2.4]\n",
            " [4.8 3.4]\n",
            " [5.9 3. ]]\n",
            "[0 1 1 0 1 1 0 0 1 0 0 0 0 0 0 0 1 1 0 1]\n"
          ]
        }
      ],
      "source": [
        "from sklearn.model_selection import train_test_split\n",
        "X_train, X_test, y_train, y_test = train_test_split(iris_x, iris_y, test_size=0.2)\n",
        "print(X_test)\n",
        "print(y_test)"
      ]
    },
    {
      "cell_type": "code",
      "execution_count": 4,
      "metadata": {
        "trusted": true
      },
      "outputs": [],
      "source": [
        "def sigmoid(z):\n",
        "    return 1 / (1 + np.exp(-z))\n",
        "def train(x, y, w, alpha, epochs):\n",
        "    ones = np.ones((x.shape[0], 1))\n",
        "    x = np.concatenate((ones, x), axis=1)\n",
        "    for i in range(epochs):\n",
        "        z = np.dot(x, w)\n",
        "        f = sigmoid(z)\n",
        "        gradient = np.dot(x.T, (f - y)) / y.size\n",
        "        w -= alpha * gradient\n",
        "    return w\n",
        "w = np.zeros(iris_x.shape[1] + 1)\n",
        "w = train(X_train, y_train, w, 0.1, 20000)"
      ]
    },
    {
      "cell_type": "code",
      "execution_count": 5,
      "metadata": {
        "trusted": true
      },
      "outputs": [],
      "source": [
        "def predict(x, w, threshold=0.5):\n",
        "    ones = np.ones((x.shape[0], 1))\n",
        "    x = np.concatenate((ones, x), axis=1)\n",
        "    return sigmoid(np.dot(x, w)) >= threshold\n",
        "y_preds = predict(X_test, w)"
      ]
    },
    {
      "cell_type": "code",
      "execution_count": 6,
      "metadata": {
        "trusted": true
      },
      "outputs": [
        {
          "data": {
            "text/plain": [
              "array([False,  True,  True, False,  True,  True, False, False,  True,\n",
              "       False, False, False, False, False, False, False,  True,  True,\n",
              "       False,  True])"
            ]
          },
          "execution_count": 6,
          "metadata": {},
          "output_type": "execute_result"
        }
      ],
      "source": [
        "y_preds"
      ]
    },
    {
      "cell_type": "code",
      "execution_count": 7,
      "metadata": {
        "trusted": true
      },
      "outputs": [
        {
          "data": {
            "text/plain": [
              "array([[12,  0],\n",
              "       [ 0,  8]])"
            ]
          },
          "execution_count": 7,
          "metadata": {},
          "output_type": "execute_result"
        }
      ],
      "source": [
        "from sklearn import metrics\n",
        "matrix = metrics.confusion_matrix(y_test, y_preds)\n",
        "matrix"
      ]
    },
    {
      "cell_type": "code",
      "execution_count": 8,
      "metadata": {
        "trusted": true
      },
      "outputs": [
        {
          "name": "stdout",
          "output_type": "stream",
          "text": [
            "Requirement already satisfied: seaborn in /home/lucas-dev/Documents/git/maschinelles_lernen/venv/lib/python3.11/site-packages (0.13.2)\n",
            "Requirement already satisfied: numpy!=1.24.0,>=1.20 in /home/lucas-dev/Documents/git/maschinelles_lernen/venv/lib/python3.11/site-packages (from seaborn) (1.26.4)\n",
            "Requirement already satisfied: pandas>=1.2 in /home/lucas-dev/Documents/git/maschinelles_lernen/venv/lib/python3.11/site-packages (from seaborn) (2.2.1)\n",
            "Requirement already satisfied: matplotlib!=3.6.1,>=3.4 in /home/lucas-dev/Documents/git/maschinelles_lernen/venv/lib/python3.11/site-packages (from seaborn) (3.8.3)\n",
            "Requirement already satisfied: contourpy>=1.0.1 in /home/lucas-dev/Documents/git/maschinelles_lernen/venv/lib/python3.11/site-packages (from matplotlib!=3.6.1,>=3.4->seaborn) (1.2.0)\n",
            "Requirement already satisfied: cycler>=0.10 in /home/lucas-dev/Documents/git/maschinelles_lernen/venv/lib/python3.11/site-packages (from matplotlib!=3.6.1,>=3.4->seaborn) (0.12.1)\n",
            "Requirement already satisfied: fonttools>=4.22.0 in /home/lucas-dev/Documents/git/maschinelles_lernen/venv/lib/python3.11/site-packages (from matplotlib!=3.6.1,>=3.4->seaborn) (4.49.0)\n",
            "Requirement already satisfied: kiwisolver>=1.3.1 in /home/lucas-dev/Documents/git/maschinelles_lernen/venv/lib/python3.11/site-packages (from matplotlib!=3.6.1,>=3.4->seaborn) (1.4.5)\n",
            "Requirement already satisfied: packaging>=20.0 in /home/lucas-dev/Documents/git/maschinelles_lernen/venv/lib/python3.11/site-packages (from matplotlib!=3.6.1,>=3.4->seaborn) (23.2)\n",
            "Requirement already satisfied: pillow>=8 in /home/lucas-dev/Documents/git/maschinelles_lernen/venv/lib/python3.11/site-packages (from matplotlib!=3.6.1,>=3.4->seaborn) (10.2.0)\n",
            "Requirement already satisfied: pyparsing>=2.3.1 in /home/lucas-dev/Documents/git/maschinelles_lernen/venv/lib/python3.11/site-packages (from matplotlib!=3.6.1,>=3.4->seaborn) (3.1.1)\n",
            "Requirement already satisfied: python-dateutil>=2.7 in /home/lucas-dev/Documents/git/maschinelles_lernen/venv/lib/python3.11/site-packages (from matplotlib!=3.6.1,>=3.4->seaborn) (2.8.2)\n",
            "Requirement already satisfied: pytz>=2020.1 in /home/lucas-dev/Documents/git/maschinelles_lernen/venv/lib/python3.11/site-packages (from pandas>=1.2->seaborn) (2024.1)\n",
            "Requirement already satisfied: tzdata>=2022.7 in /home/lucas-dev/Documents/git/maschinelles_lernen/venv/lib/python3.11/site-packages (from pandas>=1.2->seaborn) (2024.1)\n",
            "Requirement already satisfied: six>=1.5 in /home/lucas-dev/Documents/git/maschinelles_lernen/venv/lib/python3.11/site-packages (from python-dateutil>=2.7->matplotlib!=3.6.1,>=3.4->seaborn) (1.16.0)\n",
            "Note: you may need to restart the kernel to use updated packages.\n"
          ]
        }
      ],
      "source": [
        "%pip install seaborn\n",
        "import seaborn as sns"
      ]
    },
    {
      "cell_type": "code",
      "execution_count": 9,
      "metadata": {
        "trusted": true
      },
      "outputs": [
        {
          "data": {
            "text/plain": [
              "Text(0.5, 23.52222222222222, 'predicted label')"
            ]
          },
          "execution_count": 9,
          "metadata": {},
          "output_type": "execute_result"
        },
        {
          "data": {
            "image/png": "[encoded data removed]",
            "text/plain": [
              "<Figure size 640x480 with 2 Axes>"
            ]
          },
          "metadata": {},
          "output_type": "display_data"
        }
      ],
      "source": [
        "sns.heatmap(pd.DataFrame(matrix), annot=True, cmap='YlGnBu')\n",
        "plt.title('Confusion Matrix')\n",
        "plt.ylabel('correct label')\n",
        "plt.xlabel('predicted label')"
      ]
    },
    {
      "cell_type": "code",
      "execution_count": 10,
      "metadata": {
        "trusted": true
      },
      "outputs": [
        {
          "name": "stdout",
          "output_type": "stream",
          "text": [
            "Precision:  1.0\n",
            "Recall:  1.0\n",
            "Accuracy:  1.0\n"
          ]
        }
      ],
      "source": [
        "print('Precision: ', metrics.precision_score(y_test, y_preds))\n",
        "print('Recall: ', metrics.recall_score(y_test, y_preds))\n",
        "print('Accuracy: ', metrics.accuracy_score(y_test, y_preds))"
      ]
    },
    {
      "cell_type": "code",
      "execution_count": 11,
      "metadata": {
        "trusted": true
      },
      "outputs": [],
      "source": [
        "from sklearn.linear_model import LogisticRegression\n",
        "model = LogisticRegression()\n",
        "model.fit(X_train, y_train)\n",
        "y_preds = model.predict(X_test)"
      ]
    },
    {
      "cell_type": "code",
      "execution_count": 12,
      "metadata": {
        "trusted": true
      },
      "outputs": [
        {
          "data": {
            "text/plain": [
              "Text(0.5, 1.0, 'ROC Curve')"
            ]
          },
          "execution_count": 12,
          "metadata": {},
          "output_type": "execute_result"
        },
        {
          "data": {
            "image/png": "[encoded data removed]",
            "text/plain": [
              "<Figure size 640x480 with 1 Axes>"
            ]
          },
          "metadata": {},
          "output_type": "display_data"
        }
      ],
      "source": [
        "y_preds_prob = model.predict_proba(X_test)[::,1]\n",
        "fpr, tpr, _ = metrics.roc_curve(y_test, y_preds_prob)\n",
        "auc = metrics.roc_auc_score(y_test, y_preds_prob)\n",
        "plt.plot(fpr, tpr, label=f'AUC = {auc:.5f}')\n",
        "plt.ylabel('TPR')\n",
        "plt.xlabel('FPR')\n",
        "plt.legend()\n",
        "plt.title('ROC Curve')"
      ]
    },
    {
      "cell_type": "code",
      "execution_count": 13,
      "metadata": {
        "trusted": true
      },
      "outputs": [],
      "source": [
        "from sklearn.datasets import load_digits\n",
        "mnist = load_digits()\n",
        "mnist.keys()\n",
        "mnist_x = mnist['data']\n",
        "mnist_y = mnist['target']\n",
        "mnist_y = mnist_y.astype(np.uint8)\n",
        "mnist_x = mnist_x/16"
      ]
    },
    {
      "cell_type": "code",
      "execution_count": 14,
      "metadata": {
        "trusted": true
      },
      "outputs": [],
      "source": [
        "X_train, X_test, y_train, y_test = train_test_split(mnist_x, mnist_y, test_size=0.3)"
      ]
    },
    {
      "cell_type": "code",
      "execution_count": 15,
      "metadata": {
        "trusted": true
      },
      "outputs": [],
      "source": [
        "model = LogisticRegression(max_iter=200)\n",
        "model.fit(X_train, y_train)\n",
        "y_preds = model.predict(X_test)"
      ]
    },
    {
      "cell_type": "code",
      "execution_count": 16,
      "metadata": {
        "trusted": true
      },
      "outputs": [
        {
          "data": {
            "text/plain": [
              "array([[52,  0,  0,  0,  0,  0,  0,  0,  0,  0],\n",
              "       [ 0, 54,  0,  0,  0,  0,  1,  0,  0,  7],\n",
              "       [ 0,  1, 52,  0,  0,  0,  0,  0,  0,  0],\n",
              "       [ 0,  0,  0, 57,  0,  2,  0,  0,  1,  1],\n",
              "       [ 0,  1,  0,  0, 56,  0,  0,  0,  0,  0],\n",
              "       [ 0,  0,  1,  0,  0, 50,  0,  0,  0,  1],\n",
              "       [ 0,  3,  0,  0,  0,  0, 54,  0,  0,  0],\n",
              "       [ 0,  0,  0,  0,  0,  0,  0, 56,  0,  0],\n",
              "       [ 0,  2,  0,  0,  0,  0,  0,  0, 44,  1],\n",
              "       [ 0,  0,  0,  0,  0,  0,  0,  0,  0, 43]])"
            ]
          },
          "execution_count": 16,
          "metadata": {},
          "output_type": "execute_result"
        }
      ],
      "source": [
        "from sklearn import metrics\n",
        "matrix = metrics.confusion_matrix(y_test, y_preds)\n",
        "matrix"
      ]
    },
    {
      "cell_type": "code",
      "execution_count": 17,
      "metadata": {
        "trusted": true
      },
      "outputs": [
        {
          "data": {
            "text/plain": [
              "Text(0.5, 23.52222222222222, 'predicted label')"
            ]
          },
          "execution_count": 17,
          "metadata": {},
          "output_type": "execute_result"
        },
        {
          "data": {
            "image/png": "[encoded data removed]",
            "text/plain": [
              "<Figure size 640x480 with 2 Axes>"
            ]
          },
          "metadata": {},
          "output_type": "display_data"
        }
      ],
      "source": [
        "sns.heatmap(pd.DataFrame(matrix), annot=True, cmap='YlGnBu')\n",
        "plt.title('Confusion Matrix')\n",
        "plt.ylabel('correct label')\n",
        "plt.xlabel('predicted label')"
      ]
    },
    {
      "cell_type": "code",
      "execution_count": 18,
      "metadata": {
        "trusted": true
      },
      "outputs": [
        {
          "name": "stdout",
          "output_type": "stream",
          "text": [
            "Precision:  0.9623911671734473\n",
            "Recall:  0.9592592592592593\n",
            "Accuracy:  0.9592592592592593\n"
          ]
        }
      ],
      "source": [
        "print('Precision: ', metrics.precision_score(y_test, y_preds, average='weighted'))\n",
        "print('Recall: ', metrics.recall_score(y_test, y_preds, average='weighted'))\n",
        "print('Accuracy: ', metrics.accuracy_score(y_test, y_preds))"
      ]
    },
    {
      "cell_type": "code",
      "execution_count": null,
      "metadata": {},
      "outputs": [],
      "source": []
    }
  ],
  "metadata": {
    "kernelspec": {
      "display_name": "venv",
      "language": "python",
      "name": "python3"
    },
    "language_info": {
      "codemirror_mode": {
        "name": "ipython",
        "version": 3
      },
      "file_extension": ".py",
      "mimetype": "text/x-python",
      "name": "python",
      "nbconvert_exporter": "python",
      "pygments_lexer": "ipython3",
      "version": "3.11.2"
    }
  },
  "nbformat": 4,
  "nbformat_minor": 4
}
