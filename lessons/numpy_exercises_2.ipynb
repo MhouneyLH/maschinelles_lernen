{
 "cells": [
  {
   "cell_type": "markdown",
   "metadata": {},
   "source": [
    "Gegeben seien die folgenden zwei Reihungen `a = np.array([1,2,3], float)` und `b = np.array([4,5,6], float)`, berechnen sie das Skalarprodukt von `a` und `b`."
   ]
  },
  {
   "cell_type": "code",
   "execution_count": 8,
   "metadata": {},
   "outputs": [
    {
     "name": "stdout",
     "output_type": "stream",
     "text": [
      "norm(a): 3.7416573867739413\n",
      "norm(b): 8.774964387392123\n",
      "norm(a) + norm(b): 12.516621774166063\n"
     ]
    }
   ],
   "source": [
    "import numpy as np\n",
    "\n",
    "a = np.array([1,2,3], float)\n",
    "b = np.array([4,5,6], float)\n",
    "\n",
    "scalar_a = np.linalg.norm(a)\n",
    "scalar_b = np.linalg.norm(b)\n",
    "\n",
    "print(f\"norm(a): {scalar_a}\")\n",
    "print(f\"norm(b): {scalar_b}\")\n",
    "print(f\"norm(a) + norm(b): {scalar_a + scalar_b}\")"
   ]
  },
  {
   "cell_type": "markdown",
   "metadata": {},
   "source": [
    "Gegeben sei die Matrix `M = [[1,2,3], [4,5,6], [7,8,9]]`, berechnen sie die Determinante der Matrix indem sie das `linalg`-Paket der Numpy-Bibliothek verwenden."
   ]
  },
  {
   "cell_type": "code",
   "execution_count": 11,
   "metadata": {},
   "outputs": [
    {
     "name": "stdout",
     "output_type": "stream",
     "text": [
      "0.0\n"
     ]
    }
   ],
   "source": [
    "M = [[1,2,3], [4,5,6], [7,8,9]]\n",
    "\n",
    "det: int = np.linalg.det(M)\n",
    "print(det)"
   ]
  },
  {
   "cell_type": "markdown",
   "metadata": {},
   "source": [
    "Berechnen sie auch die Eigenwerte und -vektoren der Matrix `M`."
   ]
  },
  {
   "cell_type": "code",
   "execution_count": 12,
   "metadata": {},
   "outputs": [
    {
     "name": "stdout",
     "output_type": "stream",
     "text": [
      "(array([-3.15746784, -0.67276795, 18.8302358 ]), array([[-0.80238891,  0.43402538, -0.40962667],\n",
      "       [-0.16812656, -0.82296167, -0.54264865],\n",
      "       [ 0.57263033,  0.36654613, -0.73330651]]))\n"
     ]
    }
   ],
   "source": [
    "eigenwerte = np.linalg.eigh(M)\n",
    "print(eigenwerte)"
   ]
  },
  {
   "cell_type": "markdown",
   "metadata": {},
   "source": [
    "Berechnen sie die Inverse der Matrix."
   ]
  },
  {
   "cell_type": "code",
   "execution_count": 19,
   "metadata": {},
   "outputs": [
    {
     "name": "stdout",
     "output_type": "stream",
     "text": [
      "Von\n",
      "[[ 1  1  2]\n",
      " [ 3 -6  7]\n",
      " [ 0  3  5]]\n",
      "Zu\n",
      "[[ 1.0625     -0.02083333 -0.39583333]\n",
      " [ 0.3125     -0.10416667  0.02083333]\n",
      " [-0.1875      0.0625      0.1875    ]]\n"
     ]
    }
   ],
   "source": [
    "b = np.array([[1,1,2], [3,-6,7], [0,3,5]])\n",
    "print(\"Von\")\n",
    "print(b)\n",
    "\n",
    "inverseMatrix = np.linalg.inv(b)\n",
    "print(\"Zu\")\n",
    "print(inverseMatrix)"
   ]
  },
  {
   "cell_type": "markdown",
   "metadata": {},
   "source": [
    "Gegeben sei die Reihung `c = np.array([1,4,3,8,3,2,3], float)`, berechnen sie den Mittelwert der Reihungselemente."
   ]
  },
  {
   "cell_type": "code",
   "execution_count": 28,
   "metadata": {},
   "outputs": [
    {
     "name": "stdout",
     "output_type": "stream",
     "text": [
      "3.4285714285714284\n"
     ]
    }
   ],
   "source": [
    "c = np.array([1,4,3,8,3,2,3], float)\n",
    "mittel: int = np.mean(c)\n",
    "print(mittel)\n",
    "# print(24 / 7)"
   ]
  },
  {
   "cell_type": "markdown",
   "metadata": {},
   "source": [
    "Berechnen sie den Median der Reihungselemente"
   ]
  },
  {
   "cell_type": "code",
   "execution_count": 27,
   "metadata": {},
   "outputs": [
    {
     "name": "stdout",
     "output_type": "stream",
     "text": [
      "3.0\n"
     ]
    }
   ],
   "source": [
    "median: int = np.median(c)\n",
    "print(median)"
   ]
  }
 ],
 "metadata": {
  "kernelspec": {
   "display_name": "Python 3",
   "language": "python",
   "name": "python3"
  },
  "language_info": {
   "codemirror_mode": {
    "name": "ipython",
    "version": 3
   },
   "file_extension": ".py",
   "mimetype": "text/x-python",
   "name": "python",
   "nbconvert_exporter": "python",
   "pygments_lexer": "ipython3",
   "version": "3.11.2"
  }
 },
 "nbformat": 4,
 "nbformat_minor": 2
}
