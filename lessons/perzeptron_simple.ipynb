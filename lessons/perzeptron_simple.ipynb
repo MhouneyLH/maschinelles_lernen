{
 "cells": [
  {
   "cell_type": "code",
   "execution_count": 1,
   "metadata": {},
   "outputs": [],
   "source": [
    "import numpy as np"
   ]
  },
  {
   "cell_type": "code",
   "execution_count": 3,
   "metadata": {},
   "outputs": [
    {
     "name": "stdout",
     "output_type": "stream",
     "text": [
      "Ausgangsgrößen:\n",
      "leaning_rate: 1.0\n",
      "w: [0 0 0]\n",
      "y: [0 0 1]\n",
      "x: [[1 1 2]\n",
      " [1 2 3]\n",
      " [1 4 2]]\n",
      "\n",
      "Iteration 0:\n",
      "y_prediction: [1 1 1]\n",
      "y_delta: [-1 -1  0]\n",
      "w_delta: [-2 -3 -5]\n",
      "w_new: [-2. -3. -5.]\n",
      "w: [-2. -3. -5.]\n",
      "\n",
      "Iteration 1:\n",
      "y_prediction: [0 0 0]\n",
      "y_delta: [0 0 1]\n",
      "w_delta: [1 4 2]\n",
      "w_new: [-1.  1. -3.]\n",
      "w: [-1.  1. -3.]\n",
      "\n",
      "Iteration 2:\n",
      "y_prediction: [0 0 0]\n",
      "y_delta: [0 0 1]\n",
      "w_delta: [1 4 2]\n",
      "w_new: [ 0.  5. -1.]\n",
      "w: [ 0.  5. -1.]\n",
      "\n",
      "Iteration 3:\n",
      "y_prediction: [1 1 1]\n",
      "y_delta: [-1 -1  0]\n",
      "w_delta: [-2 -3 -5]\n",
      "w_new: [-2.  2. -6.]\n",
      "w: [-2.  2. -6.]\n",
      "\n",
      "Iteration 4:\n",
      "y_prediction: [0 0 0]\n",
      "y_delta: [0 0 1]\n",
      "w_delta: [1 4 2]\n",
      "w_new: [-1.  6. -4.]\n",
      "w: [-1.  6. -4.]\n",
      "\n",
      "Iteration 5:\n",
      "y_prediction: [0 0 1]\n",
      "y_delta: [0 0 0]\n",
      "w_delta: [0 0 0]\n",
      "w_new: [-1.  6. -4.]\n",
      "w: [-1.  6. -4.]\n"
     ]
    }
   ],
   "source": [
    "learning_rate: float = 1.0\n",
    "w: np.array = np.array([0,0,0])\n",
    "y: np.array = np.array([0,0,1])\n",
    "x = np.matrix([[1, 1, 2],\n",
    "               [1, 2, 3],\n",
    "               [1, 4, 2]])\n",
    "\n",
    "print(\"Ausgangsgrößen:\")\n",
    "print(f\"leaning_rate: {learning_rate}\")\n",
    "print(f\"w: {w}\")\n",
    "print(f\"y: {y}\")\n",
    "print(f\"x: {x}\")\n",
    "\n",
    "for i in range(6):\n",
    "    print(f\"\\nIteration {i}:\")\n",
    "\n",
    "    y_prediction: np.array = np.dot(x, w)\n",
    "    y_prediction = np.array(np.where(y_prediction >= 0, 1, 0)).reshape(3)\n",
    "    print(f\"y_prediction: {y_prediction}\")\n",
    "\n",
    "    y_delta: np.array = np.array(y - y_prediction).reshape(3)\n",
    "    print(f\"y_delta: {y_delta}\")\n",
    "\n",
    "    x_transposed = np.transpose(x)\n",
    "    w_delta: np.array = np.array(np.dot(x_transposed, y_delta)).reshape(3)\n",
    "    print(f\"w_delta: {w_delta}\")\n",
    "\n",
    "    w_new: np.array = np.array(w + learning_rate * w_delta).reshape(3)\n",
    "    print(f\"w_new: {w_new}\")\n",
    "\n",
    "    w = w_new\n",
    "    print(f\"w: {w}\")"
   ]
  }
 ],
 "metadata": {
  "kernelspec": {
   "display_name": "venv",
   "language": "python",
   "name": "python3"
  },
  "language_info": {
   "codemirror_mode": {
    "name": "ipython",
    "version": 3
   },
   "file_extension": ".py",
   "mimetype": "text/x-python",
   "name": "python",
   "nbconvert_exporter": "python",
   "pygments_lexer": "ipython3",
   "version": "3.11.2"
  }
 },
 "nbformat": 4,
 "nbformat_minor": 2
}
