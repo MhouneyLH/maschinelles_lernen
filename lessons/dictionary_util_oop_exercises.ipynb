{
 "cells": [
  {
   "cell_type": "markdown",
   "metadata": {},
   "source": [
    "Erzeugen Sie ein Wörterbuch mit n Einträgen, so dass die Schlüssel von 0 bis n-1 laufen und ide Werte die Quadrate der Schlüssel sind. Nutzen Sie dazu am besten wieder List Comprehension."
   ]
  },
  {
   "cell_type": "code",
   "execution_count": 31,
   "metadata": {},
   "outputs": [
    {
     "name": "stdout",
     "output_type": "stream",
     "text": [
      "{1: 1, 2: 4, 3: 9, 4: 16, 5: 25, 6: 36, 7: 49, 8: 64, 9: 81, 10: 100, 11: 121, 12: 144, 13: 169, 14: 196, 15: 225, 16: 256, 17: 289, 18: 324, 19: 361, 20: 400, 21: 441, 22: 484, 23: 529, 24: 576, 25: 625, 26: 676, 27: 729, 28: 784, 29: 841, 30: 900, 31: 961, 32: 1024, 33: 1089, 34: 1156, 35: 1225, 36: 1296, 37: 1369, 38: 1444, 39: 1521, 40: 1600, 41: 1681, 42: 1764, 43: 1849, 44: 1936, 45: 2025, 46: 2116, 47: 2209, 48: 2304, 49: 2401, 50: 2500, 51: 2601, 52: 2704, 53: 2809, 54: 2916, 55: 3025, 56: 3136, 57: 3249, 58: 3364, 59: 3481, 60: 3600, 61: 3721, 62: 3844, 63: 3969, 64: 4096, 65: 4225, 66: 4356, 67: 4489, 68: 4624, 69: 4761, 70: 4900, 71: 5041, 72: 5184, 73: 5329, 74: 5476, 75: 5625, 76: 5776, 77: 5929, 78: 6084, 79: 6241, 80: 6400, 81: 6561, 82: 6724, 83: 6889, 84: 7056, 85: 7225, 86: 7396, 87: 7569, 88: 7744, 89: 7921, 90: 8100, 91: 8281, 92: 8464, 93: 8649, 94: 8836, 95: 9025, 96: 9216, 97: 9409, 98: 9604, 99: 9801, 100: 10000}\n"
     ]
    }
   ],
   "source": [
    "n: int = 100\n",
    "dictionary: dict = {i: i**2 for i in range(1, n + 1)}\n",
    "# for i in range(1, n):\n",
    "#     dictionary[i] = i**2\n",
    "\n",
    "print(str(dictionary))"
   ]
  },
  {
   "cell_type": "markdown",
   "metadata": {},
   "source": [
    "Verwenden Sie das Wörterbuch dann um eine Liste der Schlüssel des Wörterbuchs zu erzeugen."
   ]
  },
  {
   "cell_type": "code",
   "execution_count": 30,
   "metadata": {},
   "outputs": [
    {
     "name": "stdout",
     "output_type": "stream",
     "text": [
      "dict_keys([1])\n"
     ]
    }
   ],
   "source": [
    "keyList: list = dictionary.keys()\n",
    "print(str(keyList))"
   ]
  },
  {
   "cell_type": "markdown",
   "metadata": {},
   "source": [
    "Nutzen Sie List Comprehension, um eine Liste der geraden Zahlen im Interall [0, 100] zu erzeugen."
   ]
  },
  {
   "cell_type": "code",
   "execution_count": 34,
   "metadata": {},
   "outputs": [
    {
     "name": "stdout",
     "output_type": "stream",
     "text": [
      "[0, 2, 4, 6, 8, 10, 12, 14, 16, 18, 20, 22, 24, 26, 28, 30, 32, 34, 36, 38, 40, 42, 44, 46, 48, 50, 52, 54, 56, 58, 60, 62, 64, 66, 68, 70, 72, 74, 76, 78, 80, 82, 84, 86, 88, 90, 92, 94, 96, 98, 100]\n"
     ]
    }
   ],
   "source": [
    "# das hier ist List comprehension\n",
    "# newlist = [expression for item in iterable if condition == True]\n",
    "# fruits = [\"apple\", \"banana\", \"cherry\", \"kiwi\", \"mango\"]\n",
    "# newlist = [x for x in fruits if \"a\" in x]\n",
    "\n",
    "evenKeys: list = [i for i in range (100 + 1) if i % 2 == 0] \n",
    "print(str(evenKeys))"
   ]
  },
  {
   "cell_type": "markdown",
   "metadata": {},
   "source": [
    "Schreiben Sie zunächst eine FUnktion, die eine Zahl n in Grad Celsius in Grad Fahrenheit umwandelt. Nutzen Sie dann die map-Funktion, um die Liste mit Werten von [0, 100] von Grad Celsius in Grad Fahrenheit umzurechnen."
   ]
  },
  {
   "cell_type": "code",
   "execution_count": 38,
   "metadata": {},
   "outputs": [
    {
     "name": "stdout",
     "output_type": "stream",
     "text": [
      "[32.0, 33.8, 35.6, 37.4, 39.2, 41.0, 42.8, 44.6, 46.4, 48.2, 50.0, 51.8, 53.6, 55.4, 57.2, 59.0, 60.8, 62.6, 64.4, 66.2, 68.0, 69.8, 71.6, 73.4, 75.2, 77.0, 78.8, 80.6, 82.4, 84.2, 86.0, 87.8, 89.6, 91.4, 93.2, 95.0, 96.8, 98.6, 100.4, 102.2, 104.0, 105.8, 107.6, 109.4, 111.2, 113.0, 114.8, 116.6, 118.4, 120.2, 122.0, 123.8, 125.6, 127.4, 129.2, 131.0, 132.8, 134.6, 136.4, 138.2, 140.0, 141.8, 143.6, 145.4, 147.2, 149.0, 150.8, 152.6, 154.4, 156.2, 158.0, 159.8, 161.6, 163.4, 165.2, 167.0, 168.8, 170.6, 172.4, 174.2, 176.0, 177.8, 179.6, 181.4, 183.2, 185.0, 186.8, 188.6, 190.4, 192.2, 194.0, 195.8, 197.6, 199.4, 201.2, 203.0, 204.8, 206.6, 208.4, 210.2, 212.0]\n"
     ]
    }
   ],
   "source": [
    "def celsiusToFahrenheit(n: int) -> int:\n",
    "    # mit // ist ganzzahle Division\n",
    "    return (n * 9/5) + 32\n",
    "\n",
    "celsius: list = range(101)\n",
    "# ohne list() ist es reiner iterable und somit nur read only\n",
    "fahrenheitList: list = list(map(celsiusToFahrenheit, celsius))\n",
    "print(str(fahrenheitList))"
   ]
  },
  {
   "cell_type": "markdown",
   "metadata": {},
   "source": [
    "Nutzen Sie die filter-Funktion, um die oben berchneten Temperaturwerte in Grad Fahrenheit anschließend auf Werte > 100 Grad Fahrenheit einzuschränken."
   ]
  },
  {
   "cell_type": "code",
   "execution_count": 36,
   "metadata": {},
   "outputs": [
    {
     "name": "stdout",
     "output_type": "stream",
     "text": [
      "[100.4, 104.0, 107.6, 111.2, 114.8, 118.4, 122.0, 125.6, 129.2, 132.8, 136.4, 140.0, 143.6, 147.2, 150.8, 154.4, 158.0, 161.6, 165.2, 168.8, 172.4, 176.0, 179.6, 183.2, 186.8, 190.4, 194.0, 197.6, 201.2, 204.8, 208.4, 212.0]\n"
     ]
    }
   ],
   "source": [
    "filteredFahrenheitList: list = list(filter(lambda x: x > 100, fahrenheitList)) \n",
    "print(str(filteredFahrenheitList)) "
   ]
  },
  {
   "cell_type": "markdown",
   "metadata": {},
   "source": [
    "Wie lässt sich daraus ergebende Liste dann auf die Summe der darin enthaltenen Temperaturwerte reduzieren (`reduce`)?"
   ]
  },
  {
   "cell_type": "code",
   "execution_count": 41,
   "metadata": {},
   "outputs": [
    {
     "name": "stdout",
     "output_type": "stream",
     "text": [
      "4998.4\n"
     ]
    }
   ],
   "source": [
    "from functools import reduce\n",
    "\n",
    "fahrenheitSum: int = reduce(lambda a, b: a + b, filteredFahrenheitList)\n",
    "print(str(fahrenheitSum))"
   ]
  },
  {
   "cell_type": "markdown",
   "metadata": {},
   "source": [
    "Gegeben sind 2 Listen `x = [1,2,3,4,5,6,7,8,9]` und `y = [4,5,6,7,8,9,10,11,12]`, wobei x die x-Koords und y die y-Koords von Punkten der Ebene enthält. Erstellen Sie daraus eine Liste von Paaren (Tupeln), wobei jedes Paar ein Punkt bestehend aus x- und y-Koords ist."
   ]
  },
  {
   "cell_type": "code",
   "execution_count": 42,
   "metadata": {},
   "outputs": [
    {
     "name": "stdout",
     "output_type": "stream",
     "text": [
      "[(1, 4), (2, 5), (3, 6), (4, 7), (5, 8), (6, 9), (7, 10), (8, 11), (9, 12)]\n"
     ]
    }
   ],
   "source": [
    "x: list = [1,2,3,4,5,6,7,8,9]\n",
    "y: list = [4,5,6,7,8,9,10,11,12]\n",
    "\n",
    "punkteList: list = list(zip(x, y))\n",
    "print(str(punkteList))"
   ]
  },
  {
   "cell_type": "markdown",
   "metadata": {},
   "source": [
    "Jetzt ist die Umkehrung gesucht, die aus der Liste der Punkte wieder die 2 Listen mit den x- und y-Koords erzeugt."
   ]
  },
  {
   "cell_type": "code",
   "execution_count": 45,
   "metadata": {},
   "outputs": [
    {
     "name": "stdout",
     "output_type": "stream",
     "text": [
      "x -> (1, 2, 3, 4, 5, 6, 7, 8, 9)\n",
      "y -> (4, 5, 6, 7, 8, 9, 10, 11, 12)\n"
     ]
    }
   ],
   "source": [
    "unzipped_x_list, unzipped_y_list = zip(*punkteList)\n",
    "print(\"x -> \" + str(unzipped_x_list))\n",
    "print(\"y -> \" + str(unzipped_y_list))"
   ]
  },
  {
   "cell_type": "markdown",
   "metadata": {},
   "source": [
    "Implementieren Sie eine Klasse für Punkte. Ein PUnkt hat eine x- und y-Koords, definieren Sie einen entsprechenden KOnstruktor. Weiterhin soll es eine Methode `setXY()` zum Setzen der x- Und y-Koords geben. Analog eine Methode `getXY` die x- und y-Koords liefert. Schließlich auch Methode `distance()` für Berechnung Abstand zwischen 2 Punkten."
   ]
  },
  {
   "cell_type": "code",
   "execution_count": 1,
   "metadata": {},
   "outputs": [
    {
     "name": "stdout",
     "output_type": "stream",
     "text": [
      "5.656854249492381\n",
      "(0, 0)\n",
      "0\n",
      "0\n",
      "(9, 5)\n"
     ]
    }
   ],
   "source": [
    "import math as Math\n",
    "\n",
    "class Point:\n",
    "    def __init__(self, x: int, y: int) -> None:\n",
    "        self.x = x\n",
    "        self.y = y\n",
    "    \n",
    "    def setXY(self, x: int, y: int) -> None:\n",
    "        self.x = x\n",
    "        self.y = y\n",
    "\n",
    "    def getXY(self):\n",
    "        return (self.x, self.y)\n",
    "    \n",
    "    xy = property(getXY, setXY)\n",
    "    \n",
    "    def distance(self, otherPoint: 'Point') -> int:\n",
    "        distance: int = Math.sqrt((otherPoint.x - self.x)**2 + (otherPoint.y - self.y)**2)\n",
    "        return distance\n",
    "\n",
    "point1: Point = Point(0, 0)\n",
    "point2: Point = Point(4, 4)\n",
    "distance: int = point1.distance(point2)\n",
    "print(str(distance))\n",
    "print(str(point1.xy))\n",
    "print(str(point1.x))\n",
    "print(str(point1.y))\n",
    "point1.setXY(9, 5)\n",
    "print(str(point1.getXY()))"
   ]
  },
  {
   "cell_type": "markdown",
   "metadata": {},
   "source": [
    "Setzen Sie weitere Klasse für geom. Figuren der Ebene um. Konst erhält Namen von Figur und Farbe als Para. Klasse soll weiterhin 2 Methoden für Berechnung Flächeninhalt und Umfang von Figur haben. Implementieren Sie dann Unterklasse für Rechtecke, die Methoden zur Berechnung von Flächeninhalt und Umfang jeweils überschreibt."
   ]
  },
  {
   "cell_type": "code",
   "execution_count": 5,
   "metadata": {},
   "outputs": [
    {
     "name": "stdout",
     "output_type": "stream",
     "text": [
      "Name: Rectangle, Color: Blue, Width: 10, Height: 20\n",
      "200\n",
      "60\n"
     ]
    }
   ],
   "source": [
    "from abc import ABC, abstractmethod\n",
    "\n",
    "class Shape(ABC):\n",
    "    def __init__(self, name: str, color: str) -> None:\n",
    "        self.name = name\n",
    "        self.color = color\n",
    "\n",
    "    def __str__(self) -> str:\n",
    "        return f\"Name: {self.name}, Color: {self.color}\"\n",
    "    \n",
    "    @abstractmethod\n",
    "    def getArea(self) -> float:\n",
    "        pass\n",
    "    \n",
    "    @abstractmethod\n",
    "    def getPerimeter(self) -> float:\n",
    "        pass\n",
    "\n",
    "    \n",
    "class Rectangle(Shape):\n",
    "    def __init__(self, color: str, width: int, height: int, name: str = \"Rectangle\") -> None:\n",
    "        super().__init__(name, color)\n",
    "        self.width = width\n",
    "        self.height = height\n",
    "\n",
    "    def __str__(self) -> str:\n",
    "        return f\"{super().__str__()}, Width: {self.width}, Height: {self.height}\"\n",
    "\n",
    "    def getArea(self) -> float: \n",
    "        return self.width * self.height\n",
    "\n",
    "    def getPerimeter(self) -> float:\n",
    "        return 2 * (self.width + self.height)\n",
    "    \n",
    "rectangle = Rectangle(color=\"Blue\", width=10, height=20)\n",
    "print(str(rectangle))\n",
    "print(str(rectangle.getArea()))\n",
    "print(str(rectangle.getPerimeter()))\n"
   ]
  }
 ],
 "metadata": {
  "kernelspec": {
   "display_name": "Python 3",
   "language": "python",
   "name": "python3"
  },
  "language_info": {
   "codemirror_mode": {
    "name": "ipython",
    "version": 3
   },
   "file_extension": ".py",
   "mimetype": "text/x-python",
   "name": "python",
   "nbconvert_exporter": "python",
   "pygments_lexer": "ipython3",
   "version": "3.11.2"
  }
 },
 "nbformat": 4,
 "nbformat_minor": 2
}
