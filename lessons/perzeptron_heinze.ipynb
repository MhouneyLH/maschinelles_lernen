{
 "cells": [
  {
   "cell_type": "code",
   "execution_count": 9,
   "metadata": {},
   "outputs": [],
   "source": [
    "import numpy as np\n",
    "import pandas as pd\n",
    "import matplotlib.pyplot as plt\n",
    "from sklearn import datasets\n",
    "\n",
    "iris_data = datasets.load_iris()"
   ]
  },
  {
   "cell_type": "code",
   "execution_count": 10,
   "metadata": {},
   "outputs": [],
   "source": [
    "iris_x = iris_data.data.T[[0, 2]].T[:100]\n",
    "iris_x = np.array(iris_x)\n",
    "\n",
    "iris_y = iris_data.target[:100]\n",
    "iris_y = np.array(iris_y)"
   ]
  },
  {
   "cell_type": "code",
   "execution_count": 11,
   "metadata": {},
   "outputs": [
    {
     "name": "stdout",
     "output_type": "stream",
     "text": [
      "Epoch 0/10\n",
      "Quadratic Error: 25.0000\n",
      "Epoch 1/10\n",
      "Quadratic Error: 25.0000\n",
      "Epoch 2/10\n",
      "Quadratic Error: 25.0000\n",
      "Epoch 3/10\n",
      "Quadratic Error: 25.0000\n",
      "Epoch 4/10\n",
      "Quadratic Error: 25.0000\n",
      "Epoch 5/10\n",
      "Quadratic Error: 23.5000\n",
      "Epoch 6/10\n",
      "Quadratic Error: 25.0000\n",
      "Epoch 7/10\n",
      "Quadratic Error: 0.0000\n",
      "Epoch 8/10\n",
      "Quadratic Error: 0.0000\n",
      "Epoch 9/10\n",
      "Quadratic Error: 0.0000\n"
     ]
    }
   ],
   "source": [
    "def roheingabe(x, w):\n",
    "    bias = w[0]\n",
    "    return np.dot(x, w[1:]) + bias\n",
    "\n",
    "def output(x, w):\n",
    "    return np.where(roheingabe(x, w) >= 0.0, 1, 0)\n",
    "\n",
    "def train(x, y, alpha, epochs):\n",
    "    # alles mit 0 initialisieren basierend auf der Anzahl der Spalten\n",
    "    w = np.zeros(1 + x.shape[1])\n",
    "    loss = []\n",
    "\n",
    "    for i in range(epochs):\n",
    "        print(f'Epoch {i}/{epochs}')\n",
    "        out = output(x, w)\n",
    "        diff = y - out\n",
    "\n",
    "        # alle Gewichte aktualisieren (das 1. nicht, weil das ja das Bias-Neuron ist)\n",
    "        w[1:] += alpha * x.T.dot(diff)\n",
    "        w[0] += alpha * diff.sum()\n",
    "\n",
    "        quadratic_error = (diff**2).sum() / 2.0\n",
    "        print(f'Quadratic Error: {quadratic_error:.4f}')\n",
    "        loss.append(quadratic_error)\n",
    "    \n",
    "    return w\n",
    "\n",
    "w = train(iris_x, iris_y, 0.1, 10)"
   ]
  },
  {
   "cell_type": "code",
   "execution_count": 12,
   "metadata": {},
   "outputs": [
    {
     "data": {
      "text/plain": [
       "array([[50,  0],\n",
       "       [ 0, 50]])"
      ]
     },
     "execution_count": 12,
     "metadata": {},
     "output_type": "execute_result"
    }
   ],
   "source": [
    "from sklearn import metrics\n",
    "metrics.confusion_matrix(iris_y, output(iris_x, w))"
   ]
  },
  {
   "cell_type": "code",
   "execution_count": 13,
   "metadata": {},
   "outputs": [
    {
     "data": {
      "text/plain": [
       "[<matplotlib.lines.Line2D at 0x7f5e127c2910>]"
      ]
     },
     "execution_count": 13,
     "metadata": {},
     "output_type": "execute_result"
    },
    {
     "data": {
      "image/png": "[encoded data removed]",
      "text/plain": [
       "<Figure size 640x480 with 1 Axes>"
      ]
     },
     "metadata": {},
     "output_type": "display_data"
    }
   ],
   "source": [
    "# .T = transponiert\n",
    "# :50 = 0-49\n",
    "# 50: = 50-99\n",
    "plt.scatter(iris_x.T[0, :50],iris_x.T[1, :50], color='red', marker='o', label='0')\n",
    "plt.scatter(iris_x.T[0, 50:],iris_x.T[1, 50:], color='blue', marker='x', label='1')\n",
    "plt.legend(loc='upper left')\n",
    "\n",
    "x1 = np.linspace(4, 7, 10)\n",
    "# bias is w[0]\n",
    "x2 = -(w[1]*x1 + w[0])/w[2]\n",
    "plt.plot(x1, x2, color='black')"
   ]
  }
 ],
 "metadata": {
  "kernelspec": {
   "display_name": "venv",
   "language": "python",
   "name": "python3"
  },
  "language_info": {
   "codemirror_mode": {
    "name": "ipython",
    "version": 3
   },
   "file_extension": ".py",
   "mimetype": "text/x-python",
   "name": "python",
   "nbconvert_exporter": "python",
   "pygments_lexer": "ipython3",
   "version": "3.11.2"
  }
 },
 "nbformat": 4,
 "nbformat_minor": 2
}
